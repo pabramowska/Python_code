{
 "cells": [
  {
   "cell_type": "code",
   "execution_count": 2,
   "metadata": {},
   "outputs": [
    {
     "name": "stdout",
     "output_type": "stream",
     "text": [
      "Total number of pageviews: 3629\n",
      "Number of page views for the longest visit:  25\n",
      "Maximum number of visits made by one user: 14\n",
      "Number of users with visits from 4 pm to 10 pm: 574\n",
      "Maximum number of simultaneous visits: 8\n"
     ]
    }
   ],
   "source": [
    "import datetime\n",
    "\n",
    "with open('zadanie_3_dane.txt', 'r') as file:\n",
    "    file_lines = file.readlines()\n",
    "\n",
    "views_count, visit_count, user_count = 0, {}, {}\n",
    "visits_16_to_22, visit_timestamps = set(), {}\n",
    "\n",
    "for line in file_lines:\n",
    "    if not line.strip():\n",
    "        continue\n",
    "\n",
    "    views_count += 1\n",
    "    line = line.strip().split('\\t')\n",
    "    user, visit, timestamp = line\n",
    "    timestamp = int(timestamp)\n",
    "\n",
    "    visit_count.setdefault(visit, 0)\n",
    "    visit_count[visit] += 1\n",
    "\n",
    "    user_count.setdefault(user, set())\n",
    "    user_count[user].add(visit)\n",
    "\n",
    "    date = datetime.datetime.fromtimestamp(timestamp)\n",
    "    time = date.time()\n",
    "\n",
    "    if time >= datetime.time(16) and time <= datetime.time(22):\n",
    "        visits_16_to_22.add(user)\n",
    "\n",
    "    if visit not in visit_timestamps:\n",
    "        visit_timestamps[visit] = {timestamp}\n",
    "    else:\n",
    "        visit_timestamps[visit].add(timestamp)\n",
    "\n",
    "new_user_count = {}\n",
    "for key, value in user_count.items():\n",
    "    new_user_count[key] = len(value)\n",
    "\n",
    "visit_ranges = {}\n",
    "for visit_id, timestamps in visit_timestamps.items():\n",
    "    if len(timestamps) < 2:\n",
    "        continue\n",
    "    else:\n",
    "        first_ts = min(timestamps)\n",
    "        end_ts = max(timestamps)\n",
    "        visit_ranges[visit_id] = range(first_ts, end_ts + 1)\n",
    "\n",
    "timestamps = {}\n",
    "for visit_id, ts_range in visit_ranges.items():\n",
    "    for timestamp in ts_range:\n",
    "        if timestamp in timestamps:\n",
    "            timestamps[timestamp] += 1\n",
    "        else:\n",
    "            timestamps[timestamp] = 1\n",
    "\n",
    "longest_visit = max(visit_count.values())\n",
    "max_user_count = max(new_user_count.values())\n",
    "\n",
    "print(\"Total number of pageviews: \" + str(views_count))\n",
    "print(\"Number of page views for the longest visit:  \" + str(longest_visit))\n",
    "print(\"Maximum number of visits made by one user: \" + str(max_user_count))\n",
    "print(\"Number of users with visits from 4 pm to 10 pm: \" + str(len(visits_16_to_22)))\n",
    "print(\"Maximum number of simultaneous visits: \" + str(max(timestamps.values())))"
   ]
  },
  {
   "cell_type": "code",
   "execution_count": null,
   "metadata": {},
   "outputs": [],
   "source": []
  }
 ],
 "metadata": {
  "kernelspec": {
   "display_name": "Python 3",
   "language": "python",
   "name": "python3"
  },
  "language_info": {
   "codemirror_mode": {
    "name": "ipython",
    "version": 3
   },
   "file_extension": ".py",
   "mimetype": "text/x-python",
   "name": "python",
   "nbconvert_exporter": "python",
   "pygments_lexer": "ipython3",
   "version": "3.8.3"
  }
 },
 "nbformat": 4,
 "nbformat_minor": 4
}
